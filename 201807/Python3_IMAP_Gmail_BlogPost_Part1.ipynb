{
 "cells": [
  {
   "cell_type": "markdown",
   "metadata": {},
   "source": [
    "Using imaplib to access Gmail."
   ]
  },
  {
   "cell_type": "code",
   "execution_count": null,
   "metadata": {},
   "outputs": [],
   "source": []
  },
  {
   "cell_type": "code",
   "execution_count": 1,
   "metadata": {},
   "outputs": [],
   "source": [
    "from imaplib import IMAP4_SSL #Secure connection subclass of imaplib\n",
    "import getpass #interactive password prompt works on command line too"
   ]
  },
  {
   "cell_type": "code",
   "execution_count": 2,
   "metadata": {},
   "outputs": [
    {
     "name": "stdout",
     "output_type": "stream",
     "text": [
      "········\n"
     ]
    },
    {
     "data": {
      "text/plain": [
       "('OK', [b'myEmail@gmail.com authenticated (Success)'])"
      ]
     },
     "execution_count": 2,
     "metadata": {},
     "output_type": "execute_result"
    }
   ],
   "source": [
    "#First we need to authenticate and get an IMAP session\n",
    "M = IMAP4_SSL('imap.gmail.com')\n",
    "M.login('myEmail@gmail.com', getpass.getpass()) #you will need to have setup an auth method that doesn't use 2FA"
   ]
  },
  {
   "cell_type": "markdown",
   "metadata": {},
   "source": [
    "Let's take a look at the folders (in gmail these are actually labels, and mail can have multiple labels)\n",
    "for Gmail in particular you can see these special attributes referenced in https://tools.ietf.org/html/rfc6154\n",
    "These are some Gmail folders, in particular look at the special indicators All, Junk, Trash and so forth; \n",
    "```\n",
    "  b'(\\\\All \\\\HasNoChildren) \"/\" \"[Gmail]/All Mail\"',\n",
    "  b'(\\\\HasNoChildren \\\\Trash) \"/\" \"[Gmail]/Bin\"',\n",
    "  b'(\\\\Drafts \\\\HasNoChildren) \"/\" \"[Gmail]/Drafts\"',\n",
    "  b'(\\\\HasNoChildren \\\\Important) \"/\" \"[Gmail]/Important\"',\n",
    "  b'(\\\\HasNoChildren \\\\Sent) \"/\" \"[Gmail]/Sent Mail\"',\n",
    "  b'(\\\\HasNoChildren \\\\Junk) \"/\" \"[Gmail]/Spam\"',\n",
    "  b'(\\\\Flagged \\\\HasNoChildren) \"/\" \"[Gmail]/Starred\"',\n",
    "```\n",
    "  \n",
    "`\\\\All` is the All mail tab, and has everything (with the exception of `\\\\Trash`)"
   ]
  },
  {
   "cell_type": "code",
   "execution_count": 3,
   "metadata": {},
   "outputs": [
    {
     "data": {
      "text/plain": [
       "('OK',\n",
       " [b'(\\\\HasNoChildren) \"/\" \"BookedEmail\"',\n",
       "  b'(\\\\HasNoChildren) \"/\" \"SpecialBooking\"',\n",
       "  b'(\\\\HasChildren \\\\Noselect) \"/\" \"[Gmail]\"',\n",
       "  b'(\\\\All \\\\HasNoChildren) \"/\" \"[Gmail]/All Mail\"',\n",
       "  b'(\\\\HasNoChildren \\\\Trash) \"/\" \"[Gmail]/Bin\"',\n",
       "  b'(\\\\Drafts \\\\HasNoChildren) \"/\" \"[Gmail]/Drafts\"',\n",
       "  b'(\\\\HasNoChildren \\\\Important) \"/\" \"[Gmail]/Important\"',\n",
       "  b'(\\\\HasNoChildren \\\\Sent) \"/\" \"[Gmail]/Sent Mail\"',\n",
       "  b'(\\\\HasNoChildren \\\\Junk) \"/\" \"[Gmail]/Spam\"',\n",
       "  b'(\\\\Flagged \\\\HasNoChildren) \"/\" \"[Gmail]/Starred\"',\n",
       "  b'(\\\\HasNoChildren) \"/\" \"automaticThings\"'])"
      ]
     },
     "execution_count": 3,
     "metadata": {},
     "output_type": "execute_result"
    }
   ],
   "source": [
    "M.list()"
   ]
  },
  {
   "cell_type": "markdown",
   "metadata": {},
   "source": [
    "The next stage is to select a folder that you'd like to start working on. When using `imaplib` you'll get a tuple response with the status and the result. The result in this case is the number of items in that particular folder."
   ]
  },
  {
   "cell_type": "code",
   "execution_count": 4,
   "metadata": {},
   "outputs": [
    {
     "name": "stdout",
     "output_type": "stream",
     "text": [
      "OK\n",
      "[b'634633']\n"
     ]
    }
   ],
   "source": [
    "typ, data = M.select('\"[Gmail]/All Mail\"') \n",
    "print(typ)\n",
    "print(data)"
   ]
  },
  {
   "cell_type": "markdown",
   "metadata": {},
   "source": [
    "We can search using standard IMAP search which is documented in the IMAP RFC https://tools.ietf.org/html/rfc3501"
   ]
  },
  {
   "cell_type": "code",
   "execution_count": 5,
   "metadata": {},
   "outputs": [
    {
     "name": "stdout",
     "output_type": "stream",
     "text": [
      "OK\n",
      "Number of results: 1657\n"
     ]
    }
   ],
   "source": [
    "typ, data = M.search(None, '(ON 1-May-2018)', 'ALL') #Find all mail from this date\n",
    "print(typ)\n",
    "print(\"Number of results: {0}\".format(len(data[0].decode().split()))) #it returns a space seperated list of indexes"
   ]
  },
  {
   "cell_type": "markdown",
   "metadata": {},
   "source": [
    "Google has included their own special extensions that in some cases are the only way to actually work with Gmail\n",
    "https://developers.google.com/gmail/imap/imap-extensions\n",
    "Here are the two that I have needed to get things done;\n",
    "- `X-GM-RAW` this allows you to use the full Gmail search syntax, and is much easier than pulling down an email and doing a text search on the body\n",
    "- `X-GM-LABELS` allows you to apply and remove labels to a particular piece of mail"
   ]
  },
  {
   "cell_type": "code",
   "execution_count": 6,
   "metadata": {},
   "outputs": [
    {
     "name": "stdout",
     "output_type": "stream",
     "text": [
      "OK\n",
      "Number of results: 2568\n"
     ]
    }
   ],
   "source": [
    "typ, data = M.search(None, 'X-GM-RAW \"{search} label:SpecialBooking\"'.format(search=\"Subscription\"), 'ALL')\n",
    "print(typ)\n",
    "print(\"Number of results: {0}\".format(len(data[0].decode().split()))) #it returns a space seperated list of indexes"
   ]
  },
  {
   "cell_type": "markdown",
   "metadata": {},
   "source": [
    "The data returned is a space seperated list of messages indexed by the selected folder you're in. Before you can actually work on a message you need the UID."
   ]
  },
  {
   "cell_type": "code",
   "execution_count": 7,
   "metadata": {},
   "outputs": [
    {
     "name": "stdout",
     "output_type": "stream",
     "text": [
      "OK\n",
      "[b'211 (UID 2706090)']\n",
      "2706090\n",
      "OK\n",
      "[b'211 (X-GM-LABELS (\"MyLabel\" NewLabel) UID 2706090)']\n"
     ]
    }
   ],
   "source": [
    "messageIdx = data[0].decode().split() #get a list of the indexes\n",
    "for midx in messageIdx[:1]: #I'm just doing the first out of the list in this case\n",
    "    resp, data = M.fetch(midx, \"(UID)\") #Have to get the \"actual\" UID...\n",
    "    print(resp)\n",
    "    print(data)\n",
    "    messageUID = data[0].decode().split()[-1][:-1] #This is a quick and dirty hack to pull the standalone number out\n",
    "    print(messageUID)\n",
    "    typ, data = M.uid('STORE', messageUID, '+X-GM-LABELS', '\"MyLabel\"') #This adds NewLabel to the mail\n",
    "    print(typ)\n",
    "    print(data)\n",
    "    #If you did -X-GM-LABELS it would remove the label"
   ]
  },
  {
   "cell_type": "markdown",
   "metadata": {},
   "source": [
    "Now just cleanup and close your connection. Next time I'll show how you can pull a message down, parse the header and body so you can do further work."
   ]
  },
  {
   "cell_type": "code",
   "execution_count": 8,
   "metadata": {},
   "outputs": [
    {
     "data": {
      "text/plain": [
       "('OK', [b'Returned to authenticated state. (Success)'])"
      ]
     },
     "execution_count": 8,
     "metadata": {},
     "output_type": "execute_result"
    }
   ],
   "source": [
    "M.close()"
   ]
  },
  {
   "cell_type": "code",
   "execution_count": null,
   "metadata": {},
   "outputs": [],
   "source": []
  }
 ],
 "metadata": {
  "kernelspec": {
   "display_name": "Python 3",
   "language": "python",
   "name": "python3"
  },
  "language_info": {
   "codemirror_mode": {
    "name": "ipython",
    "version": 3
   },
   "file_extension": ".py",
   "mimetype": "text/x-python",
   "name": "python",
   "nbconvert_exporter": "python",
   "pygments_lexer": "ipython3",
   "version": "3.6.5"
  }
 },
 "nbformat": 4,
 "nbformat_minor": 2
}
